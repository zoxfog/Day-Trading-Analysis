{
 "cells": [
  {
   "cell_type": "markdown",
   "metadata": {},
   "source": [
    "## EDA and Preprocessing\n",
    "\n",
    "* In this file we will draw insight from the data, engineer the given features and create a table ready for modeling."
   ]
  },
  {
   "cell_type": "code",
   "execution_count": null,
   "metadata": {},
   "outputs": [],
   "source": [
    "import numpy as np\n",
    "import pandas as pd\n",
    "import yfinance as yf #for stock data\n",
    "from IPython.display import display #for displaying the full dataframes\n",
    "import matplotlib.pyplot as plt #for data visualization\n",
    "import seaborn as sns #for advanced data visualization\n",
    "import datetime \n",
    "import random\n",
    "from sklearn import preprocessing #for ML models and data processing\n",
    "import itertools  #advanced tools for loops\n",
    "import math #for mathematical tools\n",
    "from sklearn.preprocessing import StandardScaler\n",
    "sns.set(style=\"darkgrid\") #set theme\n",
    "\n",
    "%matplotlib inline"
   ]
  },
  {
   "cell_type": "code",
   "execution_count": null,
   "metadata": {
    "scrolled": true
   },
   "outputs": [],
   "source": [
    "dt = pd.read_excel (r'data_clean.xlsx')\n",
    "\n",
    "#separate train\\test\n",
    "train_count = round(len(dt)*0.8)\n",
    "train = dt.sample(train_count,random_state = 54)\n",
    "test = pd.concat([dt, train, train]).drop_duplicates(keep=False)\n",
    "\n",
    "train['train']=1\n",
    "test['train']=0\n",
    "dt = pd.concat([test,train]).sort_index()\n"
   ]
  },
  {
   "cell_type": "markdown",
   "metadata": {},
   "source": [
    "### 1) Outcome:\n",
    "\n",
    "represents the trade outcome: \n",
    "\n",
    "* 'BE' - breakeven trade\n",
    "* 'WINNER' - winner trade\n",
    "* 'LOSER' - loser trade\n",
    "\n",
    "Add dummy variables for the eda and modeling."
   ]
  },
  {
   "cell_type": "code",
   "execution_count": null,
   "metadata": {},
   "outputs": [],
   "source": [
    "\n",
    "#change the WiNNER, BE, and LOSER features to dummy variables\n",
    "dt['is_winner'] = dt['Outcome'].apply(lambda x: 1 if x=='WINNER' else 0 )\n",
    "dt['is_be'] = dt['Outcome'].apply(lambda x: 1 if x=='BE' else 0 )\n",
    "dt['is_loser'] = dt['Outcome'].apply(lambda x: 1 if x=='LOSER' else 0 )"
   ]
  },
  {
   "cell_type": "markdown",
   "metadata": {},
   "source": [
    "### 2) Entry Price (Intended Entry):\n",
    "\n",
    "Is there a favourable price?\n",
    "\n",
    "Note that I am using Intended Entry because 'Entry Price' is the excecution price, meaning it may \n",
    "\n",
    "be affected by price volatility and high spreads, whereas 'Intended Entry' is simply the planned entry price and\n",
    "\n",
    "is not influenced by any of those."
   ]
  },
  {
   "cell_type": "code",
   "execution_count": null,
   "metadata": {
    "scrolled": true
   },
   "outputs": [],
   "source": [
    "train = dt[dt['train']==1]\n",
    "\n",
    "# get subset of train\n",
    "train2 = train[['Intended Entry','Outcome', 'RRR Realized']].copy()\n",
    "\n",
    "\n",
    "fig,ax = plt.subplots(1,3 ,figsize = (20,7))\n",
    "\n",
    "\n",
    "ax[0] = sns.regplot(x=\"Intended Entry\", y=\"RRR Realized\", data=train2,ax = ax[0],x_jitter=.2)\n",
    "\n",
    "\n",
    "ax[1] = sns.violinplot(x=\"Outcome\", y=\"Intended Entry\",data=train2, palette=\"muted\",cut = 0,ax = ax[1])\n",
    "\n",
    "ax[2] = sns.distplot(a=train2[['Intended Entry']],bins = 20,ax = ax[2])\n",
    "\n"
   ]
  },
  {
   "cell_type": "code",
   "execution_count": null,
   "metadata": {},
   "outputs": [],
   "source": [
    "\n",
    "def replaceEntry(price):\n",
    "    if price<0.5:\n",
    "        price = 1\n",
    "    elif price<6:\n",
    "        price = 2\n",
    "    elif price<10:\n",
    "        price = 3\n",
    "    else:\n",
    "        price = 4\n",
    "    return price\n",
    "\n",
    "dis_val=[\"- 0.5\",\"0.5 - 6\",\"6 - 10\",\"10 -\"]\n",
    "\n",
    "# create a new column with the discretized intended entry prices\n",
    "dt['dis_entry'] = dt['Intended Entry'].apply(replaceEntry)\n",
    "\n",
    "train = dt[dt['train']==1]        \n",
    "     \n",
    "\n",
    "#plot 1\n",
    "\n",
    "f,axes=plt.subplots(1,4 ,figsize = (20,7))\n",
    "g = sns.countplot(x=\"dis_entry\",data=train,ax=axes[0])\n",
    "plt.sca(axes[0])\n",
    "plt.xticks([0,1,2,3], dis_val,rotation=45,fontsize=15)\n",
    "      \n",
    "#plot 2\n",
    "g = sns.boxplot(x=\"dis_entry\", y=\"RRR Realized\", data=train,ax=axes[1])\n",
    "plt.sca(axes[1])\n",
    "plt.xticks([0,1,2,3], dis_val,rotation=45,fontsize=15)\n",
    "\n",
    "#plot 3\n",
    "g= sns.barplot(x=\"dis_entry\",y=\"is_winner\",data=train,ax = axes[2])\n",
    "#g= g.set_ylabels(\"Winning Probability\")\n",
    "plt.sca(axes[2])\n",
    "plt.xticks([0,1,2,3], dis_val,rotation=45,fontsize=15)\n",
    "\n",
    "#plot 4\n",
    "g= sns.barplot(x=\"dis_entry\",y=\"is_loser\",data=train,ax = axes[3])\n",
    "plt.sca(axes[3])\n",
    "plt.xticks([0,1,2,3], dis_val,rotation=45,fontsize=15)"
   ]
  },
  {
   "cell_type": "markdown",
   "metadata": {},
   "source": [
    "##### Inference:\n",
    "* Trades with stocks above \\\\$10 and under \\\\$0.5 tend to be less favourable.\n",
    "\n",
    "\n",
    "* Trades  within the ranges: \\\\$0.5-\\\\$5 and \\\\$7-\\\\$9 potentially have the best outcome.\n",
    "\n",
    "\n",
    "* The left plot shows a negative correlation, although there is high variance and low bias.\n",
    "\n",
    "\n",
    "* The data is has noise and is slightly skewed\n",
    "\n",
    "\n",
    "therefore I decided to group the price data to 4 groups: 0-0.5, 0.5-6,6-10,10- with the bins 1,2,3 and 4 respectively.\n",
    "\n",
    "Another things to note that there aren't many observations around the unfavourable values."
   ]
  },
  {
   "cell_type": "markdown",
   "metadata": {},
   "source": [
    "### 3) Sector:"
   ]
  },
  {
   "cell_type": "code",
   "execution_count": null,
   "metadata": {
    "scrolled": false
   },
   "outputs": [],
   "source": [
    "\n",
    "\n",
    "#plot 1\n",
    "f,axes=plt.subplots(2,2,figsize=(20,12))\n",
    "g1 = sns.countplot(x=\"Sector\",data=train,ax=axes[0,0])\n",
    "f.subplots_adjust(hspace=0.5)\n",
    "axes[0,0].tick_params(axis='x',labelrotation=45)\n",
    "\n",
    "\n",
    "#plot 2\n",
    "g3 =sns.violinplot(x=\"Sector\", y=\"RRR Realized\", data=train, palette=\"muted\",cut = 0,ax=axes[0,1])\n",
    "plt.xticks(rotation=45)\n",
    "axes[0,1].tick_params(axis='x',labelrotation=45)\n",
    "\n",
    "#plot 3\n",
    "g2= sns.barplot(x=\"Sector\",y=\"is_winner\",data=train,ax=axes[1,0])\n",
    "axes[1,0].tick_params(axis='x',labelrotation=45)\n",
    "\n",
    "#plot 4\n",
    "g2= sns.barplot(x=\"Sector\",y=\"is_loser\",data=train,ax=axes[1,1])\n",
    "axes[1,1].tick_params(axis='x',labelrotation=45)\n",
    "\n"
   ]
  },
  {
   "cell_type": "markdown",
   "metadata": {},
   "source": [
    "#### Inference:\n",
    "\n",
    "Since the count of each sector excluding 'Healthcare' is low, (under 20) we see a high obvious variance within the winning probability and 'RRR Realized'. Unfortunately with such results it is difficult to determine whether there is an affect on the trades outcome."
   ]
  },
  {
   "cell_type": "markdown",
   "metadata": {},
   "source": [
    "### 4) Pattern:\n",
    "\n",
    "\n",
    "The 'Pattern' abbreveations represent the technichal pattern which appeared prior to the breakout and trade entry.\n",
    "I would like to see if there's perhaps a favourable pattern. Recap:\n",
    "\n",
    "ST = symmetrical triangle\n",
    "\n",
    "R = rectangle\n",
    "\n",
    "DT = descending triangle\n",
    "\n",
    "AT = ascending triangle\n",
    "\n",
    "P = pennant\n",
    "\n",
    "F = flag\n",
    "\n"
   ]
  },
  {
   "cell_type": "code",
   "execution_count": null,
   "metadata": {
    "scrolled": false
   },
   "outputs": [],
   "source": [
    "\n",
    "\n",
    "\n",
    "#plot 1\n",
    "f,axes=plt.subplots(2,2,figsize=(20,12))\n",
    "g1 = sns.countplot(x=\"Pattern\",data=train,ax=axes[0,0])\n",
    "f.subplots_adjust(hspace=0.5)\n",
    "\n",
    "\n",
    "\n",
    "#plot 2\n",
    "g3 =sns.violinplot(x=\"Pattern\", y=\"RRR Realized\", data=train, palette=\"muted\",cut = 0,ax=axes[0,1])\n",
    "\n",
    "\n",
    "\n",
    "#plot 3\n",
    "g2= sns.barplot(x=\"Pattern\",y=\"is_winner\",data=train,ax=axes[1,0])\n",
    "\n",
    "\n",
    "#plot 4\n",
    "g2= sns.barplot(x=\"Pattern\",y=\"is_loser\",data=train,ax=axes[1,1])\n",
    "\n"
   ]
  },
  {
   "cell_type": "markdown",
   "metadata": {},
   "source": [
    "#### Inference:\n",
    "\n",
    "* 'F' has the most favourable probability which is just above 0.4, the next are 'AT' and 'DT' with about 0.35 and the last is 'ST' with just over 0.2.\n",
    "\n",
    "* The results for 'R and 'P' cannot be taken seriously due to their low count."
   ]
  },
  {
   "cell_type": "markdown",
   "metadata": {},
   "source": [
    "### 5) Float\n",
    "* 'Float' has many outliers on both sides. For example there are float values below 1 and above 500 in the data, to address the problem I will use log with base 10 to potentially reduce skewness, and to avoid negative values I will simply change the values under 1 to 1 (there aren't many so it won't make much of a difference).\n",
    "* There are 3 missing values that need to be imputed."
   ]
  },
  {
   "cell_type": "code",
   "execution_count": null,
   "metadata": {
    "scrolled": false
   },
   "outputs": [],
   "source": [
    "\n",
    "\n",
    "train5 = train.copy()\n",
    "\n",
    "#change values below 1 to 1\n",
    "train5['Float'] = train5['Float'].apply(lambda x: 1 if x<1 else x)\n",
    "\n",
    "# log(x)\n",
    "train5['Float'] = train5['Float'].apply(lambda x: math.log(x, 10))\n",
    "\n",
    "\n",
    "\n",
    "\n",
    "fig,ax = plt.subplots(1,3 ,figsize = (20,7))\n",
    "\n",
    "\n",
    "ax[0] = sns.regplot(x=\"Float\", y=\"RRR Realized\", data=train5,ax = ax[0],x_jitter=.2)\n",
    "\n",
    "ax[1] = sns.violinplot(x=\"Outcome\", y=\"Float\",data=train5, palette=\"muted\",cut = 0,ax = ax[1])\n",
    "\n",
    "plt.setp(ax[0], xlabel = \"Float = 10^y\")\n",
    "plt.setp(ax[1], ylabel = \"Float = 10^y\")\n",
    "\n",
    "ax[2] = sns.distplot(a=train5[[\"Float\"]],bins = 20,ax = ax[2])"
   ]
  },
  {
   "cell_type": "markdown",
   "metadata": {},
   "source": [
    "#### Inference: \n",
    "It is very difficult to draw conclusions, also here the variance is very high and no bias. Perhaps qualitative variables will perform better. A standard form of distinguishing floats is: 0-1, 1-8, 8-15, 15-30, 30 -, I'll use bins 1,2,3,4 and 5 to present them respectively.\n",
    "\n",
    "\n",
    "\n"
   ]
  },
  {
   "cell_type": "code",
   "execution_count": null,
   "metadata": {
    "scrolled": true
   },
   "outputs": [],
   "source": [
    "\n",
    "def replaceFloat(f):\n",
    "    if f< 1:\n",
    "        f = 1\n",
    "    elif f < 8:\n",
    "        f = 2\n",
    "    elif f < 15:\n",
    "        f = 3\n",
    "    elif f < 30:\n",
    "        f = 4\n",
    "    else:\n",
    "        f = 5\n",
    "    return f\n",
    "\n",
    "dis_val = [\"0-1\",\"1-8\",\"8-15\",\"15-30\",\"30-\"]\n",
    "# create a new column with the discretized intended entry prices\n",
    "dt['dis_float'] = dt['Float'].apply(replaceFloat)\n",
    "train = dt[dt['train']==1]    \n",
    "\n",
    "\n",
    "\n",
    "\n",
    "\n",
    "#plot 1\n",
    "\n",
    "f,axes=plt.subplots(1,4 ,figsize = (25,7))\n",
    "g = sns.countplot(x=\"dis_float\",data=train,ax=axes[0])\n",
    "plt.sca(axes[0])\n",
    "plt.xticks([0,1,2,3,4], dis_val,fontsize=15)\n",
    "      \n",
    "#plot 2\n",
    "g = sns.boxplot(x=\"dis_float\", y=\"RRR Realized\", data=train,ax=axes[1])\n",
    "plt.sca(axes[1])\n",
    "plt.xticks([0,1,2,3,4], dis_val,fontsize=15)\n",
    "\n",
    "#plot 3\n",
    "g= sns.barplot(x=\"dis_float\",y=\"is_winner\",data=train,ax = axes[2])\n",
    "plt.sca(axes[2])\n",
    "plt.xticks([0,1,2,3,4], dis_val,fontsize=15)\n",
    "\n",
    "#plot 4\n",
    "g= sns.barplot(x=\"dis_float\",y=\"is_loser\",data=train,ax = axes[3])\n",
    "plt.sca(axes[3])\n",
    "plt.xticks([0,1,2,3,4], dis_val,fontsize=15)\n"
   ]
  },
  {
   "cell_type": "markdown",
   "metadata": {},
   "source": [
    "#### Inference:\n",
    "Best performers are:\n",
    "\n",
    "* float range 1-8\n",
    "\n",
    "* float range 8-15\n",
    "\n",
    "\n"
   ]
  },
  {
   "cell_type": "code",
   "execution_count": null,
   "metadata": {},
   "outputs": [],
   "source": [
    "# fill NaN values with the average float of the [x-1,x+1] range\n",
    "# where x is the 'Intended Entry' of the row with the missing float \n",
    "# update dis_float \n",
    "\n",
    "\n",
    "for index,row in dt.iterrows():\n",
    "    current_float = row['Float']\n",
    "    current_price = row['Intended Entry']\n",
    "    \n",
    "    if np.isnan(current_float): \n",
    "        reduced_dt = dt[(dt['Intended Entry']<(1+current_price)) & (dt['Intended Entry']>(1-current_price))]\n",
    "        float_average =  reduced_dt['Float'].mean()         \n",
    "        dt.loc[index, 'Float'] = float_average\n",
    "        dt.loc[index, 'dis_float'] = replaceFloat(float_average)\n",
    "\n",
    "\n"
   ]
  },
  {
   "cell_type": "markdown",
   "metadata": {},
   "source": [
    "### 6) Catalyst:\n",
    "\n",
    "Catalyst is detemined by what is moving the stock price?\n",
    "\n",
    "* L - leading secotr\n",
    "* H - hype for reasons unknown\n",
    "* C - catalyst that come from news of some sort e.g. FDA approval of a drug or good earnings"
   ]
  },
  {
   "cell_type": "code",
   "execution_count": null,
   "metadata": {
    "scrolled": true
   },
   "outputs": [],
   "source": [
    "train = dt[dt['train']==1]\n",
    "\n",
    "#plot 1\n",
    "f,axes=plt.subplots(2,2,figsize=(10,12))\n",
    "g1 = sns.countplot(x=\"Catalyst\",data=train,ax=axes[0,0])\n",
    "f.subplots_adjust(hspace=0.5)\n",
    "\n",
    "\n",
    "\n",
    "#plot 2\n",
    "g3 =sns.violinplot(x=\"Catalyst\", y=\"RRR Realized\", data=train, palette=\"muted\",cut = 0,ax=axes[0,1])\n",
    "\n",
    "\n",
    "\n",
    "#plot 3\n",
    "g2= sns.barplot(x=\"Catalyst\",y=\"is_winner\",data=train,ax=axes[1,0])\n",
    "\n",
    "\n",
    "#plot 4\n",
    "g2= sns.barplot(x=\"Catalyst\",y=\"is_loser\",data=train,ax=axes[1,1])"
   ]
  },
  {
   "cell_type": "markdown",
   "metadata": {},
   "source": [
    "### 7) Pause Num:\n",
    "\n",
    "Price tend to move in stanges, drive -> correction (pause) -> drive -> correction etc.\n",
    "The trade is normally take at the breakout of the correction, so the pause num is simply the number of correction the trade took off from.\n"
   ]
  },
  {
   "cell_type": "code",
   "execution_count": null,
   "metadata": {
    "scrolled": false
   },
   "outputs": [],
   "source": [
    "\n",
    "\n",
    "#plot 1\n",
    "f,axes=plt.subplots(2,2,figsize=(10,12))\n",
    "g1 = sns.countplot(x=\"Pause Num\",data=train,ax=axes[0,0])\n",
    "f.subplots_adjust(hspace=0.5)\n",
    "\n",
    "\n",
    "\n",
    "#plot 2\n",
    "g3 =sns.violinplot(x=\"Pause Num\", y=\"RRR Realized\", data=train, palette=\"muted\",cut = 0,ax=axes[0,1])\n",
    "\n",
    "\n",
    "\n",
    "#plot 3\n",
    "g2= sns.barplot(x=\"Pause Num\",y=\"is_winner\",data=train,ax=axes[1,0])\n",
    "\n",
    "\n",
    "#plot 4\n",
    "g2= sns.barplot(x=\"Pause Num\",y=\"is_loser\",data=train,ax=axes[1,1])"
   ]
  },
  {
   "cell_type": "markdown",
   "metadata": {},
   "source": [
    "#### Inference:\n",
    "* 'Pause Num' with 3 and above should be avoided\n",
    "\n",
    "* 'Pause Num' 1 is the most preferable"
   ]
  },
  {
   "cell_type": "markdown",
   "metadata": {},
   "source": [
    "### 8) VWAP Tag:\n",
    "\n",
    "This is a tag used for how the technical pattern (correction) of the trade is positioned relative to the vwap and how did the price breakout given that position.\n",
    "\n",
    "* BO - the pattern is close to the vwap and the price broke out of the pattern and vwap at the same time.\n",
    "* SUPPORT - the pattern is close to the vwap but at the price was already above vwap prior and after the breakout.\n",
    "* FALSE - the pattern is positioned away from vwap."
   ]
  },
  {
   "cell_type": "code",
   "execution_count": null,
   "metadata": {
    "scrolled": false
   },
   "outputs": [],
   "source": [
    "\n",
    "\n",
    "#plot 1\n",
    "f,axes=plt.subplots(2,2,figsize=(10,12))\n",
    "g1 = sns.countplot(x=\"VWAP Tag\",data=train,ax=axes[0,0])\n",
    "f.subplots_adjust(hspace=0.5)\n",
    "\n",
    "\n",
    "\n",
    "#plot 2\n",
    "g3 =sns.violinplot(x=\"VWAP Tag\", y=\"RRR Realized\", data=train, palette=\"muted\",cut = 0,ax=axes[0,1])\n",
    "\n",
    "\n",
    "\n",
    "#plot 3\n",
    "g2= sns.barplot(x=\"VWAP Tag\",y=\"is_winner\",data=train,ax=axes[1,0])\n",
    "\n",
    "\n",
    "#plot 4\n",
    "g2= sns.barplot(x=\"VWAP Tag\",y=\"is_loser\",data=train,ax=axes[1,1])"
   ]
  },
  {
   "cell_type": "markdown",
   "metadata": {},
   "source": [
    "#### Inference:\n",
    "\n",
    "* Having a vwap tag shows positive results with BO demonstrating the best results\n",
    "."
   ]
  },
  {
   "cell_type": "markdown",
   "metadata": {},
   "source": [
    "### 9) Gap\n",
    "\n",
    "The percent gap of the stock on the given day."
   ]
  },
  {
   "cell_type": "code",
   "execution_count": null,
   "metadata": {},
   "outputs": [],
   "source": [
    "\n",
    "\n",
    "\n",
    "# there are several observations above 50 and within the 50-200 range, \n",
    "# due to their low count I decided to convert them to 50, to avoid high leverage points.\n",
    "dt['Gap'] = dt['Gap'].apply(lambda x: 50 if x>50 else x )\n",
    "\n",
    "\n",
    "train = dt[dt['train']==1]\n",
    "fig,ax = plt.subplots(1,3 ,figsize = (20,7))\n",
    "\n",
    "\n",
    "ax[0] = sns.regplot(x=\"Gap\", y=\"RRR Realized\", data=train,ax = ax[0],x_jitter=.2)\n",
    "\n",
    "ax[1] = sns.violinplot(x=\"Outcome\", y=\"Gap\",data=train, palette=\"muted\",cut = 0,ax = ax[1])\n",
    "\n",
    "ax[2] = sns.distplot(a=train[[\"Gap\"]],bins = 20,ax = ax[2])\n",
    "\n",
    "x = dt[['Gap']].values #returns a numpy array\n",
    "min_max_scaler = preprocessing.MinMaxScaler()\n",
    "x_scaled = min_max_scaler.fit_transform(x)\n",
    "dt['norm_gap'] = pd.DataFrame(x_scaled)\n",
    "\n"
   ]
  },
  {
   "cell_type": "markdown",
   "metadata": {},
   "source": [
    "#### Inference:\n",
    "* There seems to be an underperformace of trades with a gap under 0, unfortunately the number of observation supporting it is low. \n",
    "* Focusing on gaps with a big range span above 0 may deliver better results."
   ]
  },
  {
   "cell_type": "markdown",
   "metadata": {},
   "source": [
    "### 10) SP500 Change (gap, weekly, monthly and 3 months)\n",
    "\n",
    "* SPY gap percent change (same as featured above but with the SPY)\n",
    "* SPY weekly,monthly and 3 months percent change\n",
    "\n",
    "\n",
    "Smooth the continues features with binning using equal-frequency histogram (5 bins)."
   ]
  },
  {
   "cell_type": "code",
   "execution_count": null,
   "metadata": {
    "scrolled": true
   },
   "outputs": [],
   "source": [
    "\n",
    "for c in ['SPY Gap','SPY Week Change','SPY Month Change','SPY 3 Month Change']:\n",
    "    \n",
    "\n",
    "    fig,ax = plt.subplots(1,3 ,figsize = (15,7))\n",
    "    fig.suptitle(c, size =15)\n",
    "    ax[0] = sns.regplot(x=c, y=\"RRR Realized\", data=train,ax = ax[0],x_jitter=.2)\n",
    "    ax[1] = sns.violinplot(x=\"Outcome\", y=c,data=train, palette=\"muted\",cut = 0,ax = ax[1])\n",
    "    ax[2] = sns.distplot(a=train[[c]],bins = 20,ax = ax[2])\n",
    "    \n",
    "    # binning    \n",
    "    name = c.lower().replace(' ','_')\n",
    "    dt[\"bin_\"+name]=0\n",
    "    dt = dt.sort_values(by = [c])\n",
    "    dt_arr =  np.array_split(dt,5)\n",
    "    dis_val=[]\n",
    "    for i in range(len(dt_arr)):\n",
    "        dt_arr[i][\"bin_\"+name] = i+1      \n",
    "        first=round(dt_arr[i][c].iloc[0],2)\n",
    "        last=round(dt_arr[i][c].iloc[-1],2)\n",
    "        dis_val.append(str(first)+\" - \"+str(last))\n",
    "        print(\"for \"+ c + \" bin %d: min= %f and max= %f\"%(dt_arr[i][\"bin_\"+name].iloc[0],first,last))\n",
    "\n",
    "\n",
    "    dt = pd.concat(dt_arr)\n",
    "    \n",
    "    train = dt[dt['train']==1]\n",
    "    \n",
    "    #plot 1\n",
    "    f,axes=plt.subplots(1,4,figsize=(27,7))\n",
    "    f.subplots_adjust(hspace=0.5)\n",
    "    g1 = sns.countplot(x=\"bin_\"+name,data=train,ax=axes[0])\n",
    "    plt.sca(axes[0])\n",
    "    plt.xticks([0,1,2,3,4], dis_val,rotation=45,fontsize=15)\n",
    "\n",
    "\n",
    "\n",
    "    #plot 2\n",
    "    g3 =sns.violinplot(x=\"bin_\"+name, y=\"RRR Realized\", data=train, palette=\"muted\",cut = 0,ax=axes[1])\n",
    "\n",
    "    plt.sca(axes[1])\n",
    "    plt.xticks([0,1,2,3,4], dis_val,rotation=45,fontsize=15)\n",
    "\n",
    "\n",
    "    #plot 3\n",
    "    g2= sns.barplot(x=\"bin_\"+name,y=\"is_winner\",data=train,ax=axes[2])\n",
    "    plt.sca(axes[2])\n",
    "    plt.xticks([0,1,2,3,4], dis_val,rotation=45,fontsize=15)\n",
    "\n",
    "    #plot 4\n",
    "    g2= sns.barplot(x=\"bin_\"+name,y=\"is_loser\",data=train,ax=axes[3])\n",
    "    plt.sca(axes[3])\n",
    "    plt.xticks([0,1,2,3,4], dis_val,rotation=45,fontsize=15)\n",
    "    \n",
    "    "
   ]
  },
  {
   "cell_type": "markdown",
   "metadata": {},
   "source": [
    "#### Inference:\n",
    "\n",
    "* spy gap percent 0.24-0.47 is preferable.\n",
    "* spy week change (percent), idealy above 0.2.\n",
    "* spy month change (percent), idealy above 5.76.\n",
    "* spy 3 month, no clear pattern."
   ]
  },
  {
   "cell_type": "markdown",
   "metadata": {},
   "source": [
    "### Export data for modeling"
   ]
  },
  {
   "cell_type": "code",
   "execution_count": null,
   "metadata": {},
   "outputs": [],
   "source": [
    "dt.to_excel(\"data_modeling.xlsx\")  "
   ]
  }
 ],
 "metadata": {
  "kernelspec": {
   "display_name": "Python 3",
   "language": "python",
   "name": "python3"
  },
  "language_info": {
   "codemirror_mode": {
    "name": "ipython",
    "version": 3
   },
   "file_extension": ".py",
   "mimetype": "text/x-python",
   "name": "python",
   "nbconvert_exporter": "python",
   "pygments_lexer": "ipython3",
   "version": "3.8.3"
  }
 },
 "nbformat": 4,
 "nbformat_minor": 4
}
